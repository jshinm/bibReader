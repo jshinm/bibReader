{
 "cells": [
  {
   "cell_type": "markdown",
   "metadata": {},
   "source": [
    "## General use case of pandarize for bib files"
   ]
  },
  {
   "cell_type": "markdown",
   "metadata": {},
   "source": [
    "#### Load package"
   ]
  },
  {
   "cell_type": "code",
   "execution_count": 1,
   "metadata": {},
   "outputs": [
    {
     "data": {
      "text/plain": [
       "'0.0.7'"
      ]
     },
     "execution_count": 1,
     "metadata": {},
     "output_type": "execute_result"
    }
   ],
   "source": [
    "from pandarize.frame import Pandarizer\n",
    "import pandarize\n",
    "pandarize.__version__"
   ]
  },
  {
   "cell_type": "markdown",
   "metadata": {},
   "source": [
    "#### Load file directly from url"
   ]
  },
  {
   "cell_type": "code",
   "execution_count": 2,
   "metadata": {},
   "outputs": [],
   "source": [
    "url = 'https://raw.githubusercontent.com/Qinka/random-bib/master/references-1a.bib'"
   ]
  },
  {
   "cell_type": "code",
   "execution_count": 3,
   "metadata": {},
   "outputs": [],
   "source": [
    "pdr = Pandarizer()\n",
    "pdr.load(url)\n",
    "pdr.fit()"
   ]
  },
  {
   "cell_type": "code",
   "execution_count": 4,
   "metadata": {},
   "outputs": [
    {
     "data": {
      "text/html": [
       "<div>\n",
       "<style scoped>\n",
       "    .dataframe tbody tr th:only-of-type {\n",
       "        vertical-align: middle;\n",
       "    }\n",
       "\n",
       "    .dataframe tbody tr th {\n",
       "        vertical-align: top;\n",
       "    }\n",
       "\n",
       "    .dataframe thead th {\n",
       "        text-align: right;\n",
       "    }\n",
       "</style>\n",
       "<table border=\"1\" class=\"dataframe\">\n",
       "  <thead>\n",
       "    <tr style=\"text-align: right;\">\n",
       "      <th></th>\n",
       "      <th>type</th>\n",
       "      <th>alias</th>\n",
       "      <th>title</th>\n",
       "      <th>year</th>\n",
       "      <th>journal</th>\n",
       "      <th>author</th>\n",
       "      <th>number</th>\n",
       "      <th>volume</th>\n",
       "      <th>url</th>\n",
       "      <th>doi</th>\n",
       "      <th>...</th>\n",
       "      <th>arxivId</th>\n",
       "      <th>editor</th>\n",
       "      <th>publisher</th>\n",
       "      <th>address</th>\n",
       "      <th>month</th>\n",
       "      <th>pmid</th>\n",
       "      <th>institution</th>\n",
       "      <th>series</th>\n",
       "      <th>translator</th>\n",
       "      <th>edition</th>\n",
       "    </tr>\n",
       "  </thead>\n",
       "  <tbody>\n",
       "    <tr>\n",
       "      <th>0</th>\n",
       "      <td>article</td>\n",
       "      <td>Klein2012</td>\n",
       "      <td>101 Labeled Brain Images and a Consistent Huma...</td>\n",
       "      <td>2012</td>\n",
       "      <td>Frontiers in Neuroscience</td>\n",
       "      <td>Klein, Arno and Tourville, Jason</td>\n",
       "      <td>DEC</td>\n",
       "      <td>6</td>\n",
       "      <td>http://journal.frontiersin.org/article/10.3389...</td>\n",
       "      <td>10.3389/fnins.2012.00171</td>\n",
       "      <td>...</td>\n",
       "      <td>NaN</td>\n",
       "      <td>NaN</td>\n",
       "      <td>NaN</td>\n",
       "      <td>NaN</td>\n",
       "      <td>NaN</td>\n",
       "      <td>NaN</td>\n",
       "      <td>NaN</td>\n",
       "      <td>NaN</td>\n",
       "      <td>NaN</td>\n",
       "      <td>NaN</td>\n",
       "    </tr>\n",
       "    <tr>\n",
       "      <th>1</th>\n",
       "      <td>inproceedings</td>\n",
       "      <td>Zhong2017b</td>\n",
       "      <td>3D alpha matting based co-segmentation of tumo...</td>\n",
       "      <td>2017</td>\n",
       "      <td>NaN</td>\n",
       "      <td>Zhong, Zisha and Kim, Yusung and Buatti, John ...</td>\n",
       "      <td>NaN</td>\n",
       "      <td>10555 LNCS</td>\n",
       "      <td>NaN</td>\n",
       "      <td>10.1007/978-3-319-67564-0_4</td>\n",
       "      <td>...</td>\n",
       "      <td>NaN</td>\n",
       "      <td>NaN</td>\n",
       "      <td>NaN</td>\n",
       "      <td>NaN</td>\n",
       "      <td>NaN</td>\n",
       "      <td>NaN</td>\n",
       "      <td>NaN</td>\n",
       "      <td>NaN</td>\n",
       "      <td>NaN</td>\n",
       "      <td>NaN</td>\n",
       "    </tr>\n",
       "    <tr>\n",
       "      <th>2</th>\n",
       "      <td>article</td>\n",
       "      <td>Khvostikov2018</td>\n",
       "      <td>3D CNN-based classification using sMRI and MD-...</td>\n",
       "      <td>2018</td>\n",
       "      <td>NaN</td>\n",
       "      <td>Khvostikov, Alexander and Aderghal, Karim and ...</td>\n",
       "      <td>NaN</td>\n",
       "      <td>NaN</td>\n",
       "      <td>http://arxiv.org/abs/1801.05968</td>\n",
       "      <td>NaN</td>\n",
       "      <td>...</td>\n",
       "      <td>1801.05968</td>\n",
       "      <td>NaN</td>\n",
       "      <td>NaN</td>\n",
       "      <td>NaN</td>\n",
       "      <td>NaN</td>\n",
       "      <td>NaN</td>\n",
       "      <td>NaN</td>\n",
       "      <td>NaN</td>\n",
       "      <td>NaN</td>\n",
       "      <td>NaN</td>\n",
       "    </tr>\n",
       "    <tr>\n",
       "      <th>3</th>\n",
       "      <td>inproceedings</td>\n",
       "      <td>Dou2016</td>\n",
       "      <td>3D deeply supervised network for automatic liv...</td>\n",
       "      <td>2016</td>\n",
       "      <td>NaN</td>\n",
       "      <td>Dou, Qi and Chen, Hao and Jin, Yueming and Yu,...</td>\n",
       "      <td>NaN</td>\n",
       "      <td>9901 LNCS</td>\n",
       "      <td>NaN</td>\n",
       "      <td>10.1007/978-3-319-46723-8_18</td>\n",
       "      <td>...</td>\n",
       "      <td>1607.00582</td>\n",
       "      <td>Ourselin, Sebastien and Joskowicz, Leo and Sab...</td>\n",
       "      <td>Springer International Publishing</td>\n",
       "      <td>Cham</td>\n",
       "      <td>NaN</td>\n",
       "      <td>NaN</td>\n",
       "      <td>NaN</td>\n",
       "      <td>NaN</td>\n",
       "      <td>NaN</td>\n",
       "      <td>NaN</td>\n",
       "    </tr>\n",
       "    <tr>\n",
       "      <th>4</th>\n",
       "      <td>inproceedings</td>\n",
       "      <td>Zhong2018</td>\n",
       "      <td>3D fully convolutional networks for co-segment...</td>\n",
       "      <td>2018</td>\n",
       "      <td>NaN</td>\n",
       "      <td>Zhong, Z and Kim, Y and Zhou, L and Plichta, K...</td>\n",
       "      <td>NaN</td>\n",
       "      <td>NaN</td>\n",
       "      <td>NaN</td>\n",
       "      <td>10.1109/ISBI.2018.8363561</td>\n",
       "      <td>...</td>\n",
       "      <td>NaN</td>\n",
       "      <td>NaN</td>\n",
       "      <td>NaN</td>\n",
       "      <td>NaN</td>\n",
       "      <td>4</td>\n",
       "      <td>NaN</td>\n",
       "      <td>NaN</td>\n",
       "      <td>NaN</td>\n",
       "      <td>NaN</td>\n",
       "      <td>NaN</td>\n",
       "    </tr>\n",
       "  </tbody>\n",
       "</table>\n",
       "<p>5 rows × 25 columns</p>\n",
       "</div>"
      ],
      "text/plain": [
       "            type           alias  \\\n",
       "0        article       Klein2012   \n",
       "1  inproceedings      Zhong2017b   \n",
       "2        article  Khvostikov2018   \n",
       "3  inproceedings         Dou2016   \n",
       "4  inproceedings       Zhong2018   \n",
       "\n",
       "                                               title  year  \\\n",
       "0  101 Labeled Brain Images and a Consistent Huma...  2012   \n",
       "1  3D alpha matting based co-segmentation of tumo...  2017   \n",
       "2  3D CNN-based classification using sMRI and MD-...  2018   \n",
       "3  3D deeply supervised network for automatic liv...  2016   \n",
       "4  3D fully convolutional networks for co-segment...  2018   \n",
       "\n",
       "                     journal  \\\n",
       "0  Frontiers in Neuroscience   \n",
       "1                        NaN   \n",
       "2                        NaN   \n",
       "3                        NaN   \n",
       "4                        NaN   \n",
       "\n",
       "                                              author number      volume  \\\n",
       "0                   Klein, Arno and Tourville, Jason    DEC           6   \n",
       "1  Zhong, Zisha and Kim, Yusung and Buatti, John ...    NaN  10555 LNCS   \n",
       "2  Khvostikov, Alexander and Aderghal, Karim and ...    NaN         NaN   \n",
       "3  Dou, Qi and Chen, Hao and Jin, Yueming and Yu,...    NaN   9901 LNCS   \n",
       "4  Zhong, Z and Kim, Y and Zhou, L and Plichta, K...    NaN         NaN   \n",
       "\n",
       "                                                 url  \\\n",
       "0  http://journal.frontiersin.org/article/10.3389...   \n",
       "1                                                NaN   \n",
       "2                    http://arxiv.org/abs/1801.05968   \n",
       "3                                                NaN   \n",
       "4                                                NaN   \n",
       "\n",
       "                            doi  ...     arxivId  \\\n",
       "0      10.3389/fnins.2012.00171  ...         NaN   \n",
       "1   10.1007/978-3-319-67564-0_4  ...         NaN   \n",
       "2                           NaN  ...  1801.05968   \n",
       "3  10.1007/978-3-319-46723-8_18  ...  1607.00582   \n",
       "4     10.1109/ISBI.2018.8363561  ...         NaN   \n",
       "\n",
       "                                              editor  \\\n",
       "0                                                NaN   \n",
       "1                                                NaN   \n",
       "2                                                NaN   \n",
       "3  Ourselin, Sebastien and Joskowicz, Leo and Sab...   \n",
       "4                                                NaN   \n",
       "\n",
       "                           publisher address month pmid institution series  \\\n",
       "0                                NaN     NaN   NaN  NaN         NaN    NaN   \n",
       "1                                NaN     NaN   NaN  NaN         NaN    NaN   \n",
       "2                                NaN     NaN   NaN  NaN         NaN    NaN   \n",
       "3  Springer International Publishing    Cham   NaN  NaN         NaN    NaN   \n",
       "4                                NaN     NaN     4  NaN         NaN    NaN   \n",
       "\n",
       "  translator edition  \n",
       "0        NaN     NaN  \n",
       "1        NaN     NaN  \n",
       "2        NaN     NaN  \n",
       "3        NaN     NaN  \n",
       "4        NaN     NaN  \n",
       "\n",
       "[5 rows x 25 columns]"
      ]
     },
     "execution_count": 4,
     "metadata": {},
     "output_type": "execute_result"
    }
   ],
   "source": [
    "pdr.df.head()"
   ]
  },
  {
   "cell_type": "markdown",
   "metadata": {},
   "source": [
    "#### Load data from url and save on drive"
   ]
  },
  {
   "cell_type": "code",
   "execution_count": 5,
   "metadata": {},
   "outputs": [],
   "source": [
    "url_beta = 'https://raw.githubusercontent.com/neurodata/neurodata.io/deploy/content/bibs/press.bib'"
   ]
  },
  {
   "cell_type": "code",
   "execution_count": 6,
   "metadata": {},
   "outputs": [],
   "source": [
    "pdr.load(source=url_beta, savefile='tmp/sample.bib')"
   ]
  },
  {
   "cell_type": "code",
   "execution_count": 7,
   "metadata": {},
   "outputs": [
    {
     "data": {
      "text/plain": [
       "'@misc{Prazosin2020, year={2020}, title={Prazosin Might Be A Treatment for COVID-19. More Data Is Urg'"
      ]
     },
     "execution_count": 7,
     "metadata": {},
     "output_type": "execute_result"
    }
   ],
   "source": [
    "pdr.raw[:100]"
   ]
  },
  {
   "cell_type": "markdown",
   "metadata": {},
   "source": [
    "#### Load data from drive"
   ]
  },
  {
   "cell_type": "code",
   "execution_count": 8,
   "metadata": {},
   "outputs": [],
   "source": [
    "pdr.load(source='tmp/sample.bib')"
   ]
  },
  {
   "cell_type": "code",
   "execution_count": 9,
   "metadata": {},
   "outputs": [
    {
     "data": {
      "text/plain": [
       "'@misc{Prazosin2020, year={2020}, title={Prazosin Might Be A Treatment for COVID-19. More Data Is Urg'"
      ]
     },
     "execution_count": 9,
     "metadata": {},
     "output_type": "execute_result"
    }
   ],
   "source": [
    "pdr.raw[:100]"
   ]
  },
  {
   "cell_type": "code",
   "execution_count": 10,
   "metadata": {},
   "outputs": [],
   "source": [
    "pdr.fit()"
   ]
  },
  {
   "cell_type": "code",
   "execution_count": 11,
   "metadata": {},
   "outputs": [
    {
     "data": {
      "text/html": [
       "<div>\n",
       "<style scoped>\n",
       "    .dataframe tbody tr th:only-of-type {\n",
       "        vertical-align: middle;\n",
       "    }\n",
       "\n",
       "    .dataframe tbody tr th {\n",
       "        vertical-align: top;\n",
       "    }\n",
       "\n",
       "    .dataframe thead th {\n",
       "        text-align: right;\n",
       "    }\n",
       "</style>\n",
       "<table border=\"1\" class=\"dataframe\">\n",
       "  <thead>\n",
       "    <tr style=\"text-align: right;\">\n",
       "      <th></th>\n",
       "      <th>type</th>\n",
       "      <th>alias</th>\n",
       "      <th>year</th>\n",
       "      <th>title</th>\n",
       "      <th>url</th>\n",
       "      <th>address</th>\n",
       "      <th>author</th>\n",
       "      <th>keywords</th>\n",
       "    </tr>\n",
       "  </thead>\n",
       "  <tbody>\n",
       "    <tr>\n",
       "      <th>0</th>\n",
       "      <td>misc</td>\n",
       "      <td>Prazosin2020</td>\n",
       "      <td>2020</td>\n",
       "      <td>Prazosin Might Be A Treatment for COVID-19. Mo...</td>\n",
       "      <td>https://www.forbes.com/sites/stevensalzberg/20...</td>\n",
       "      <td>Forbes</td>\n",
       "      <td>Salzberg, Steven</td>\n",
       "      <td>press</td>\n",
       "    </tr>\n",
       "    <tr>\n",
       "      <th>1</th>\n",
       "      <td>misc</td>\n",
       "      <td>Atlantic2020</td>\n",
       "      <td>2020</td>\n",
       "      <td>Why Some People Get Sicker Than Others: COVID-...</td>\n",
       "      <td>https://www.theatlantic.com/health/archive/202...</td>\n",
       "      <td>The Atlantic</td>\n",
       "      <td>Hamblin, James</td>\n",
       "      <td>press</td>\n",
       "    </tr>\n",
       "    <tr>\n",
       "      <th>2</th>\n",
       "      <td>misc</td>\n",
       "      <td>Cytokine2020</td>\n",
       "      <td>2020</td>\n",
       "      <td>Coronavirus Can Set Off a 'Cytokine Storm.' Th...</td>\n",
       "      <td>https://www.nytimes.com/2020/06/11/health/coro...</td>\n",
       "      <td>The New York Times</td>\n",
       "      <td>Mandavilli, Apoorva</td>\n",
       "      <td>press</td>\n",
       "    </tr>\n",
       "    <tr>\n",
       "      <th>3</th>\n",
       "      <td>misc</td>\n",
       "      <td>CovidCaution2020</td>\n",
       "      <td>2020</td>\n",
       "      <td>Too Much Caution Is Killing Covid Patients</td>\n",
       "      <td>https://www.wsj.com/articles/too-much-caution-...</td>\n",
       "      <td>The Wall Street Journal</td>\n",
       "      <td>Ladapo, Joseph A.</td>\n",
       "      <td>press</td>\n",
       "    </tr>\n",
       "    <tr>\n",
       "      <th>4</th>\n",
       "      <td>misc</td>\n",
       "      <td>BloodPressure2020</td>\n",
       "      <td>2020</td>\n",
       "      <td>Researchers Urge Clinical Trial of Blood Press...</td>\n",
       "      <td>https://www.hopkinsmedicine.org/news/newsroom/...</td>\n",
       "      <td>Johns Hopkins Medicine</td>\n",
       "      <td>Mone, Amy and Mehl, Valerie</td>\n",
       "      <td>press</td>\n",
       "    </tr>\n",
       "  </tbody>\n",
       "</table>\n",
       "</div>"
      ],
      "text/plain": [
       "   type              alias  year  \\\n",
       "0  misc       Prazosin2020  2020   \n",
       "1  misc       Atlantic2020  2020   \n",
       "2  misc       Cytokine2020  2020   \n",
       "3  misc   CovidCaution2020  2020   \n",
       "4  misc  BloodPressure2020  2020   \n",
       "\n",
       "                                               title  \\\n",
       "0  Prazosin Might Be A Treatment for COVID-19. Mo...   \n",
       "1  Why Some People Get Sicker Than Others: COVID-...   \n",
       "2  Coronavirus Can Set Off a 'Cytokine Storm.' Th...   \n",
       "3         Too Much Caution Is Killing Covid Patients   \n",
       "4  Researchers Urge Clinical Trial of Blood Press...   \n",
       "\n",
       "                                                 url                  address  \\\n",
       "0  https://www.forbes.com/sites/stevensalzberg/20...                   Forbes   \n",
       "1  https://www.theatlantic.com/health/archive/202...             The Atlantic   \n",
       "2  https://www.nytimes.com/2020/06/11/health/coro...       The New York Times   \n",
       "3  https://www.wsj.com/articles/too-much-caution-...  The Wall Street Journal   \n",
       "4  https://www.hopkinsmedicine.org/news/newsroom/...   Johns Hopkins Medicine   \n",
       "\n",
       "                        author keywords  \n",
       "0             Salzberg, Steven    press  \n",
       "1               Hamblin, James    press  \n",
       "2          Mandavilli, Apoorva    press  \n",
       "3            Ladapo, Joseph A.    press  \n",
       "4  Mone, Amy and Mehl, Valerie    press  "
      ]
     },
     "execution_count": 11,
     "metadata": {},
     "output_type": "execute_result"
    }
   ],
   "source": [
    "pdr.df.head()"
   ]
  },
  {
   "cell_type": "markdown",
   "metadata": {},
   "source": [
    "#### Load bib from url with comments"
   ]
  },
  {
   "cell_type": "code",
   "execution_count": 12,
   "metadata": {},
   "outputs": [],
   "source": [
    "url_gamma = 'http://tug.ctan.org/tex-archive/macros/latex/contrib/aguplus/sample.bib'"
   ]
  },
  {
   "cell_type": "code",
   "execution_count": 13,
   "metadata": {},
   "outputs": [],
   "source": [
    "pdr.load(source=url_gamma)"
   ]
  },
  {
   "cell_type": "code",
   "execution_count": 14,
   "metadata": {},
   "outputs": [
    {
     "data": {
      "text/plain": [
       "\"% ****************************************% * File: SAMPLE.BIB *% ****************************************% * An invented bib file *% * For the sample texts *% * The order is unimportant and there *% * may be more entries than references *% * in the text *% ****************************************% @ARTICLE{smit54,\\tAUTHOR = {J. G. Smith and H. K. Weston},\\tTITLE = {Nothing Particular in this Year's History},\\tYEAR = {1954},\\tJOURNAL = {J. Geophys. Res.},\\tVOLUME = {2},\\tPAGES = {14-15}}@BOOK{colu92,\\tAUTHOR = {Christopher Columbus},\\tTITLE = {How {I} Discovered {America}},\\tYEAR = {1492},\\tPUBLISHER = {Hispanic Press},\\tADDRESS = {Barcelona}}@ARTICLE{gree00,\\tAUTHOR = {R. J. Green and U. P. Fred and W. P. Norbert},\\tTITLE = {Things that Go Bump in the Night},\\tYEAR = {1900},\\tJOURNAL = {Psych. Today},\\tVOLUME = {46},\\tPAGES = {345-678}}@ARTICLE{phil99,\\tAUTHOR = {T. P. Phillips},\\tTITLE = {Possible Influence of the Magnetosphere on {American} History},\\tYEAR = {1999},\\tJOURNAL = {J. Oddball Res.},\\tVOLUME \""
      ]
     },
     "execution_count": 14,
     "metadata": {},
     "output_type": "execute_result"
    }
   ],
   "source": [
    "pdr.raw[:1000]"
   ]
  },
  {
   "cell_type": "code",
   "execution_count": 15,
   "metadata": {},
   "outputs": [],
   "source": [
    "pdr.fit()"
   ]
  },
  {
   "cell_type": "code",
   "execution_count": 16,
   "metadata": {},
   "outputs": [
    {
     "data": {
      "text/html": [
       "<div>\n",
       "<style scoped>\n",
       "    .dataframe tbody tr th:only-of-type {\n",
       "        vertical-align: middle;\n",
       "    }\n",
       "\n",
       "    .dataframe tbody tr th {\n",
       "        vertical-align: top;\n",
       "    }\n",
       "\n",
       "    .dataframe thead th {\n",
       "        text-align: right;\n",
       "    }\n",
       "</style>\n",
       "<table border=\"1\" class=\"dataframe\">\n",
       "  <thead>\n",
       "    <tr style=\"text-align: right;\">\n",
       "      <th></th>\n",
       "      <th>type</th>\n",
       "      <th>alias</th>\n",
       "      <th>AUTHOR</th>\n",
       "      <th>TITLE</th>\n",
       "      <th>YEAR</th>\n",
       "      <th>JOURNAL</th>\n",
       "      <th>VOLUME</th>\n",
       "      <th>PAGES</th>\n",
       "      <th>PUBLISHER</th>\n",
       "      <th>ADDRESS</th>\n",
       "    </tr>\n",
       "  </thead>\n",
       "  <tbody>\n",
       "    <tr>\n",
       "      <th>0</th>\n",
       "      <td>ARTICLE</td>\n",
       "      <td>smit54</td>\n",
       "      <td>J. G. Smith and H. K. Weston</td>\n",
       "      <td>Nothing Particular in this Year's History</td>\n",
       "      <td>1954</td>\n",
       "      <td>J. Geophys. Res.</td>\n",
       "      <td>2</td>\n",
       "      <td>14-15</td>\n",
       "      <td>NaN</td>\n",
       "      <td>NaN</td>\n",
       "    </tr>\n",
       "    <tr>\n",
       "      <th>1</th>\n",
       "      <td>BOOK</td>\n",
       "      <td>colu92</td>\n",
       "      <td>Christopher Columbus</td>\n",
       "      <td>How I Discovered America</td>\n",
       "      <td>1492</td>\n",
       "      <td>NaN</td>\n",
       "      <td>NaN</td>\n",
       "      <td>NaN</td>\n",
       "      <td>Hispanic Press</td>\n",
       "      <td>Barcelona</td>\n",
       "    </tr>\n",
       "    <tr>\n",
       "      <th>2</th>\n",
       "      <td>ARTICLE</td>\n",
       "      <td>gree00</td>\n",
       "      <td>R. J. Green and U. P. Fred and W. P. Norbert</td>\n",
       "      <td>Things that Go Bump in the Night</td>\n",
       "      <td>1900</td>\n",
       "      <td>Psych. Today</td>\n",
       "      <td>46</td>\n",
       "      <td>345-678</td>\n",
       "      <td>NaN</td>\n",
       "      <td>NaN</td>\n",
       "    </tr>\n",
       "    <tr>\n",
       "      <th>3</th>\n",
       "      <td>ARTICLE</td>\n",
       "      <td>phil99</td>\n",
       "      <td>T. P. Phillips</td>\n",
       "      <td>Possible Influence of the Magnetosphere on Ame...</td>\n",
       "      <td>1999</td>\n",
       "      <td>J. Oddball Res.</td>\n",
       "      <td>98</td>\n",
       "      <td>1000-1003</td>\n",
       "      <td>NaN</td>\n",
       "      <td>NaN</td>\n",
       "    </tr>\n",
       "    <tr>\n",
       "      <th>4</th>\n",
       "      <td>ARTICLE</td>\n",
       "      <td>jame76</td>\n",
       "      <td>Kelly James and Harris, Jr., George and Wilby ...</td>\n",
       "      <td>American Independence and Magnetism</td>\n",
       "      <td>1776</td>\n",
       "      <td>Revol. Tracts</td>\n",
       "      <td>32</td>\n",
       "      <td>34-55</td>\n",
       "      <td>NaN</td>\n",
       "      <td>NaN</td>\n",
       "    </tr>\n",
       "  </tbody>\n",
       "</table>\n",
       "</div>"
      ],
      "text/plain": [
       "      type   alias                                             AUTHOR  \\\n",
       "0  ARTICLE  smit54                       J. G. Smith and H. K. Weston   \n",
       "1     BOOK  colu92                               Christopher Columbus   \n",
       "2  ARTICLE  gree00       R. J. Green and U. P. Fred and W. P. Norbert   \n",
       "3  ARTICLE  phil99                                     T. P. Phillips   \n",
       "4  ARTICLE  jame76  Kelly James and Harris, Jr., George and Wilby ...   \n",
       "\n",
       "                                               TITLE  YEAR           JOURNAL  \\\n",
       "0          Nothing Particular in this Year's History  1954  J. Geophys. Res.   \n",
       "1                           How I Discovered America  1492               NaN   \n",
       "2                   Things that Go Bump in the Night  1900      Psych. Today   \n",
       "3  Possible Influence of the Magnetosphere on Ame...  1999   J. Oddball Res.   \n",
       "4                American Independence and Magnetism  1776     Revol. Tracts   \n",
       "\n",
       "  VOLUME      PAGES       PUBLISHER    ADDRESS  \n",
       "0      2      14-15             NaN        NaN  \n",
       "1    NaN        NaN  Hispanic Press  Barcelona  \n",
       "2     46    345-678             NaN        NaN  \n",
       "3     98  1000-1003             NaN        NaN  \n",
       "4     32      34-55             NaN        NaN  "
      ]
     },
     "execution_count": 16,
     "metadata": {},
     "output_type": "execute_result"
    }
   ],
   "source": [
    "pdr.df"
   ]
  },
  {
   "cell_type": "markdown",
   "metadata": {},
   "source": [
    "End of the notebook"
   ]
  }
 ],
 "metadata": {
  "kernelspec": {
   "display_name": "Python 3.9.15 ('pandarize')",
   "language": "python",
   "name": "python3"
  },
  "language_info": {
   "codemirror_mode": {
    "name": "ipython",
    "version": 3
   },
   "file_extension": ".py",
   "mimetype": "text/x-python",
   "name": "python",
   "nbconvert_exporter": "python",
   "pygments_lexer": "ipython3",
   "version": "3.9.15"
  },
  "orig_nbformat": 4,
  "vscode": {
   "interpreter": {
    "hash": "dad1adfa8d136b42bc671de9edd435b00b948a75d2c3d60fa318daadbc489ee6"
   }
  }
 },
 "nbformat": 4,
 "nbformat_minor": 2
}
