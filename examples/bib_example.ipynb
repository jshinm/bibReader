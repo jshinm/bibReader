{
 "cells": [
  {
   "cell_type": "markdown",
   "metadata": {},
   "source": [
    "## General use case of pandarize for bib files"
   ]
  },
  {
   "cell_type": "markdown",
   "metadata": {},
   "source": [
    "#### Load package"
   ]
  },
  {
   "cell_type": "code",
   "execution_count": 1,
   "metadata": {},
   "outputs": [
    {
     "data": {
      "text/plain": [
       "'0.0.4'"
      ]
     },
     "execution_count": 1,
     "metadata": {},
     "output_type": "execute_result"
    }
   ],
   "source": [
    "from pandarize.frame import Pandarizer\n",
    "import pandarize\n",
    "pandarize.__version__"
   ]
  },
  {
   "cell_type": "markdown",
   "metadata": {},
   "source": [
    "#### Load file directly from url"
   ]
  },
  {
   "cell_type": "code",
   "execution_count": 2,
   "metadata": {},
   "outputs": [],
   "source": [
    "url = 'https://raw.githubusercontent.com/neurodata/neurodata.io/deploy/content/bibs/people.bib'"
   ]
  },
  {
   "cell_type": "code",
   "execution_count": 3,
   "metadata": {},
   "outputs": [],
   "source": [
    "pdr = Pandarizer()\n",
    "pdr.load(url)\n",
    "pdr.fit()"
   ]
  },
  {
   "cell_type": "code",
   "execution_count": 4,
   "metadata": {},
   "outputs": [
    {
     "data": {
      "text/html": [
       "<div>\n",
       "<style scoped>\n",
       "    .dataframe tbody tr th:only-of-type {\n",
       "        vertical-align: middle;\n",
       "    }\n",
       "\n",
       "    .dataframe tbody tr th {\n",
       "        vertical-align: top;\n",
       "    }\n",
       "\n",
       "    .dataframe thead th {\n",
       "        text-align: right;\n",
       "    }\n",
       "</style>\n",
       "<table border=\"1\" class=\"dataframe\">\n",
       "  <thead>\n",
       "    <tr style=\"text-align: right;\">\n",
       "      <th></th>\n",
       "      <th>type</th>\n",
       "      <th>alias</th>\n",
       "      <th>author</th>\n",
       "      <th>usera</th>\n",
       "      <th>userw</th>\n",
       "      <th>month</th>\n",
       "      <th>year</th>\n",
       "      <th>number</th>\n",
       "      <th>series</th>\n",
       "      <th>abstract</th>\n",
       "      <th>userb</th>\n",
       "      <th>userc</th>\n",
       "      <th>userd</th>\n",
       "      <th>keywords</th>\n",
       "      <th>doi</th>\n",
       "      <th>note</th>\n",
       "      <th>url</th>\n",
       "      <th>usere</th>\n",
       "      <th>file</th>\n",
       "    </tr>\n",
       "  </thead>\n",
       "  <tbody>\n",
       "    <tr>\n",
       "      <th>0</th>\n",
       "      <td>incollection</td>\n",
       "      <td>jovo</td>\n",
       "      <td>Joshua Vogelstein</td>\n",
       "      <td>Director</td>\n",
       "      <td>Chief Unity Ninja</td>\n",
       "      <td></td>\n",
       "      <td></td>\n",
       "      <td>--</td>\n",
       "      <td></td>\n",
       "      <td></td>\n",
       "      <td></td>\n",
       "      <td>BME, JHU</td>\n",
       "      <td>director</td>\n",
       "      <td>director</td>\n",
       "      <td>jovo</td>\n",
       "      <td>jovo@jhu.edu</td>\n",
       "      <td>neurodata.io/about/jovo</td>\n",
       "      <td>safe-zone</td>\n",
       "      <td>vogelstein_joshua.jpg</td>\n",
       "    </tr>\n",
       "    <tr>\n",
       "      <th>1</th>\n",
       "      <td>incollection</td>\n",
       "      <td>tylertomita</td>\n",
       "      <td>Tyler Tomita</td>\n",
       "      <td>Postdoctoral Fellow</td>\n",
       "      <td></td>\n",
       "      <td>8</td>\n",
       "      <td>2014</td>\n",
       "      <td>08/14 --</td>\n",
       "      <td></td>\n",
       "      <td>Developed Sparse Projection Oblique Randomer F...</td>\n",
       "      <td>MSE</td>\n",
       "      <td>BME, JHU</td>\n",
       "      <td>postdoc</td>\n",
       "      <td>postdoc</td>\n",
       "      <td>ttomita</td>\n",
       "      <td></td>\n",
       "      <td></td>\n",
       "      <td></td>\n",
       "      <td>tomita_tyler.jpg</td>\n",
       "    </tr>\n",
       "    <tr>\n",
       "      <th>2</th>\n",
       "      <td>incollection</td>\n",
       "      <td>jongshin</td>\n",
       "      <td>Jong Shin</td>\n",
       "      <td>Software Engineer</td>\n",
       "      <td>Tech Support</td>\n",
       "      <td>9</td>\n",
       "      <td>2020</td>\n",
       "      <td>09/20 --</td>\n",
       "      <td></td>\n",
       "      <td>Currently investigating the effect of inductiv...</td>\n",
       "      <td>MS</td>\n",
       "      <td>BME, JHU</td>\n",
       "      <td>staff</td>\n",
       "      <td>staffresearch</td>\n",
       "      <td>jshinm</td>\n",
       "      <td>jshin69@jhu.edu</td>\n",
       "      <td></td>\n",
       "      <td>safe-zone</td>\n",
       "      <td>jong_shin.png</td>\n",
       "    </tr>\n",
       "    <tr>\n",
       "      <th>3</th>\n",
       "      <td>incollection</td>\n",
       "      <td>aligeisa</td>\n",
       "      <td>Ali Geisa</td>\n",
       "      <td>Research Assistant</td>\n",
       "      <td></td>\n",
       "      <td>3</td>\n",
       "      <td>2020</td>\n",
       "      <td>03/20 --</td>\n",
       "      <td></td>\n",
       "      <td>Researching progressive and lifelong learning ...</td>\n",
       "      <td>MS</td>\n",
       "      <td>BME, JHU</td>\n",
       "      <td>faculty - research</td>\n",
       "      <td>staffresearch</td>\n",
       "      <td></td>\n",
       "      <td></td>\n",
       "      <td></td>\n",
       "      <td></td>\n",
       "      <td>ali_geisa.jpg</td>\n",
       "    </tr>\n",
       "    <tr>\n",
       "      <th>4</th>\n",
       "      <td>incollection</td>\n",
       "      <td>kareefullah</td>\n",
       "      <td>Kareef Ullah</td>\n",
       "      <td>Undergraduate Researcher</td>\n",
       "      <td>Cup Stacker</td>\n",
       "      <td>9</td>\n",
       "      <td>2021</td>\n",
       "      <td>09/21 --</td>\n",
       "      <td></td>\n",
       "      <td>Assisted with fixing issues in graspologic and...</td>\n",
       "      <td></td>\n",
       "      <td>BME, JHU</td>\n",
       "      <td>undergrad</td>\n",
       "      <td>undergrad</td>\n",
       "      <td></td>\n",
       "      <td>kullah2@jhu.edu</td>\n",
       "      <td></td>\n",
       "      <td></td>\n",
       "      <td>kareef_ullah.jpg</td>\n",
       "    </tr>\n",
       "  </tbody>\n",
       "</table>\n",
       "</div>"
      ],
      "text/plain": [
       "           type        alias             author                     usera  \\\n",
       "0  incollection         jovo  Joshua Vogelstein                  Director   \n",
       "1  incollection  tylertomita       Tyler Tomita       Postdoctoral Fellow   \n",
       "2  incollection     jongshin          Jong Shin         Software Engineer   \n",
       "3  incollection     aligeisa          Ali Geisa        Research Assistant   \n",
       "4  incollection  kareefullah       Kareef Ullah  Undergraduate Researcher   \n",
       "\n",
       "               userw month  year     number series  \\\n",
       "0  Chief Unity Ninja                    --           \n",
       "1                        8  2014  08/14 --           \n",
       "2       Tech Support     9  2020  09/20 --           \n",
       "3                        3  2020  03/20 --           \n",
       "4        Cup Stacker     9  2021  09/21 --           \n",
       "\n",
       "                                            abstract userb     userc  \\\n",
       "0                                                           BME, JHU   \n",
       "1  Developed Sparse Projection Oblique Randomer F...   MSE  BME, JHU   \n",
       "2  Currently investigating the effect of inductiv...    MS  BME, JHU   \n",
       "3  Researching progressive and lifelong learning ...    MS  BME, JHU   \n",
       "4  Assisted with fixing issues in graspologic and...        BME, JHU   \n",
       "\n",
       "                userd       keywords      doi             note  \\\n",
       "0            director       director     jovo     jovo@jhu.edu   \n",
       "1             postdoc        postdoc  ttomita                    \n",
       "2               staff  staffresearch   jshinm  jshin69@jhu.edu   \n",
       "3  faculty - research  staffresearch                             \n",
       "4           undergrad      undergrad           kullah2@jhu.edu   \n",
       "\n",
       "                       url      usere                   file  \n",
       "0  neurodata.io/about/jovo  safe-zone  vogelstein_joshua.jpg  \n",
       "1                                           tomita_tyler.jpg  \n",
       "2                           safe-zone          jong_shin.png  \n",
       "3                                              ali_geisa.jpg  \n",
       "4                                           kareef_ullah.jpg  "
      ]
     },
     "execution_count": 4,
     "metadata": {},
     "output_type": "execute_result"
    }
   ],
   "source": [
    "pdr.df.head()"
   ]
  },
  {
   "cell_type": "markdown",
   "metadata": {},
   "source": [
    "#### Load data from url and save on drive"
   ]
  },
  {
   "cell_type": "code",
   "execution_count": 5,
   "metadata": {},
   "outputs": [],
   "source": [
    "# url_beta = 'https://raw.githubusercontent.com/neurodata/neurodata.io/deploy/content/bibs/talks.bib'\n",
    "url_beta = 'https://raw.githubusercontent.com/neurodata/neurodata.io/deploy/content/bibs/press.bib'"
   ]
  },
  {
   "cell_type": "code",
   "execution_count": 6,
   "metadata": {},
   "outputs": [],
   "source": [
    "pdr.load(source=url_beta, savefile='tmp/sample.bib')"
   ]
  },
  {
   "cell_type": "code",
   "execution_count": 7,
   "metadata": {},
   "outputs": [
    {
     "data": {
      "text/plain": [
       "'@misc{Prazosin2020,\\n  year={2020},\\n  title={Prazosin Might Be A Treatment for COVID-19. More Data Is'"
      ]
     },
     "execution_count": 7,
     "metadata": {},
     "output_type": "execute_result"
    }
   ],
   "source": [
    "pdr.raw[:100]"
   ]
  },
  {
   "cell_type": "markdown",
   "metadata": {},
   "source": [
    "#### Load data from drive"
   ]
  },
  {
   "cell_type": "code",
   "execution_count": 8,
   "metadata": {},
   "outputs": [],
   "source": [
    "pdr.load(source='tmp/sample.bib')"
   ]
  },
  {
   "cell_type": "code",
   "execution_count": 9,
   "metadata": {},
   "outputs": [
    {
     "data": {
      "text/plain": [
       "'@misc{Prazosin2020,\\n  year={2020},\\n  title={Prazosin Might Be A Treatment for COVID-19. More Data Is'"
      ]
     },
     "execution_count": 9,
     "metadata": {},
     "output_type": "execute_result"
    }
   ],
   "source": [
    "pdr.raw[:100]"
   ]
  },
  {
   "cell_type": "code",
   "execution_count": 10,
   "metadata": {},
   "outputs": [],
   "source": [
    "pdr.fit()"
   ]
  },
  {
   "cell_type": "code",
   "execution_count": 11,
   "metadata": {},
   "outputs": [
    {
     "data": {
      "text/html": [
       "<div>\n",
       "<style scoped>\n",
       "    .dataframe tbody tr th:only-of-type {\n",
       "        vertical-align: middle;\n",
       "    }\n",
       "\n",
       "    .dataframe tbody tr th {\n",
       "        vertical-align: top;\n",
       "    }\n",
       "\n",
       "    .dataframe thead th {\n",
       "        text-align: right;\n",
       "    }\n",
       "</style>\n",
       "<table border=\"1\" class=\"dataframe\">\n",
       "  <thead>\n",
       "    <tr style=\"text-align: right;\">\n",
       "      <th></th>\n",
       "      <th>type</th>\n",
       "      <th>alias</th>\n",
       "      <th>year</th>\n",
       "      <th>title</th>\n",
       "      <th>url</th>\n",
       "      <th>address</th>\n",
       "      <th>author</th>\n",
       "      <th>keywords</th>\n",
       "    </tr>\n",
       "  </thead>\n",
       "  <tbody>\n",
       "    <tr>\n",
       "      <th>0</th>\n",
       "      <td>misc</td>\n",
       "      <td>Prazosin2020</td>\n",
       "      <td>2020</td>\n",
       "      <td>Prazosin Might Be A Treatment for COVID-19. Mo...</td>\n",
       "      <td>https://www.forbes.com/sites/stevensalzberg/20...</td>\n",
       "      <td>Forbes</td>\n",
       "      <td>Salzberg, Steven</td>\n",
       "      <td>press</td>\n",
       "    </tr>\n",
       "    <tr>\n",
       "      <th>1</th>\n",
       "      <td>misc</td>\n",
       "      <td>Atlantic2020</td>\n",
       "      <td>2020</td>\n",
       "      <td>Why Some People Get Sicker Than Others: COVID-...</td>\n",
       "      <td>https://www.theatlantic.com/health/archive/202...</td>\n",
       "      <td>The Atlantic</td>\n",
       "      <td>Hamblin, James</td>\n",
       "      <td>press</td>\n",
       "    </tr>\n",
       "    <tr>\n",
       "      <th>2</th>\n",
       "      <td>misc</td>\n",
       "      <td>Cytokine2020</td>\n",
       "      <td>2020</td>\n",
       "      <td>Coronavirus Can Set Off a 'Cytokine Storm.' Th...</td>\n",
       "      <td>https://www.nytimes.com/2020/06/11/health/coro...</td>\n",
       "      <td>The New York Times</td>\n",
       "      <td>Mandavilli, Apoorva</td>\n",
       "      <td>press</td>\n",
       "    </tr>\n",
       "    <tr>\n",
       "      <th>3</th>\n",
       "      <td>misc</td>\n",
       "      <td>CovidCaution2020</td>\n",
       "      <td>2020</td>\n",
       "      <td>Too Much Caution Is Killing Covid Patients</td>\n",
       "      <td>https://www.wsj.com/articles/too-much-caution-...</td>\n",
       "      <td>The Wall Street Journal</td>\n",
       "      <td>Ladapo, Joseph A.</td>\n",
       "      <td>press</td>\n",
       "    </tr>\n",
       "    <tr>\n",
       "      <th>4</th>\n",
       "      <td>misc</td>\n",
       "      <td>BloodPressure2020</td>\n",
       "      <td>2020</td>\n",
       "      <td>Researchers Urge Clinical Trial of Blood Press...</td>\n",
       "      <td>https://www.hopkinsmedicine.org/news/newsroom/...</td>\n",
       "      <td>Johns Hopkins Medicine</td>\n",
       "      <td>Mone, Amy and Mehl, Valerie</td>\n",
       "      <td>press</td>\n",
       "    </tr>\n",
       "  </tbody>\n",
       "</table>\n",
       "</div>"
      ],
      "text/plain": [
       "   type              alias  year  \\\n",
       "0  misc       Prazosin2020  2020   \n",
       "1  misc       Atlantic2020  2020   \n",
       "2  misc       Cytokine2020  2020   \n",
       "3  misc   CovidCaution2020  2020   \n",
       "4  misc  BloodPressure2020  2020   \n",
       "\n",
       "                                               title  \\\n",
       "0  Prazosin Might Be A Treatment for COVID-19. Mo...   \n",
       "1  Why Some People Get Sicker Than Others: COVID-...   \n",
       "2  Coronavirus Can Set Off a 'Cytokine Storm.' Th...   \n",
       "3         Too Much Caution Is Killing Covid Patients   \n",
       "4  Researchers Urge Clinical Trial of Blood Press...   \n",
       "\n",
       "                                                 url                  address  \\\n",
       "0  https://www.forbes.com/sites/stevensalzberg/20...                   Forbes   \n",
       "1  https://www.theatlantic.com/health/archive/202...             The Atlantic   \n",
       "2  https://www.nytimes.com/2020/06/11/health/coro...       The New York Times   \n",
       "3  https://www.wsj.com/articles/too-much-caution-...  The Wall Street Journal   \n",
       "4  https://www.hopkinsmedicine.org/news/newsroom/...   Johns Hopkins Medicine   \n",
       "\n",
       "                        author keywords  \n",
       "0             Salzberg, Steven    press  \n",
       "1               Hamblin, James    press  \n",
       "2          Mandavilli, Apoorva    press  \n",
       "3            Ladapo, Joseph A.    press  \n",
       "4  Mone, Amy and Mehl, Valerie    press  "
      ]
     },
     "execution_count": 11,
     "metadata": {},
     "output_type": "execute_result"
    }
   ],
   "source": [
    "pdr.df.head()"
   ]
  },
  {
   "cell_type": "markdown",
   "metadata": {},
   "source": [
    "#### Load bib from url with comments"
   ]
  },
  {
   "cell_type": "code",
   "execution_count": 12,
   "metadata": {},
   "outputs": [],
   "source": [
    "url_gamma = 'http://tug.ctan.org/tex-archive/macros/latex/contrib/aguplus/sample.bib'"
   ]
  },
  {
   "cell_type": "code",
   "execution_count": 13,
   "metadata": {},
   "outputs": [],
   "source": [
    "pdr.load(source=url_gamma)"
   ]
  },
  {
   "cell_type": "code",
   "execution_count": 14,
   "metadata": {},
   "outputs": [
    {
     "data": {
      "text/plain": [
       "\"%   ****************************************\\r\\n%   * File: SAMPLE.BIB                     *\\r\\n%   ****************************************\\r\\n%   * An invented bib file                 *\\r\\n%   * For the sample texts                 *\\r\\n%   * The order is unimportant and there   *\\r\\n%   * may be more entries than references  *\\r\\n%   * in the text                          *\\r\\n%   ****************************************\\r\\n% \\r\\n@ARTICLE{smit54,\\r\\n\\tAUTHOR = {J. G. Smith and H. K. Weston},\\r\\n\\tTITLE = {Nothing Particular in this Year's History},\\r\\n\\tYEAR = {1954},\\r\\n\\tJOURNAL = {J. Geophys. Res.},\\r\\n\\tVOLUME = {2},\\r\\n\\tPAGES = {14-15}\\r\\n}\\r\\n@BOOK{colu92,\\r\\n\\tAUTHOR = {Christopher Columbus},\\r\\n\\tTITLE = {How {I} Discovered {America}},\\r\\n\\tYEAR = {1492},\\r\\n\\tPUBLISHER = {Hispanic Press},\\r\\n\\tADDRESS = {Barcelona}\\r\\n}\\r\\n@ARTICLE{gree00,\\r\\n\\tAUTHOR = {R. J. Green and U. P. Fred and W. P. Norbert},\\r\\n\\tTITLE = {Things that Go Bump in the Night},\\r\\n\\tYEAR = {1900},\\r\\n\\tJOURNAL = {Psych. Today},\\r\\n\\tVOLUME = {46},\\r\\n\\tPAGES = {345-678}\\r\\n}\\r\\n@ART\""
      ]
     },
     "execution_count": 14,
     "metadata": {},
     "output_type": "execute_result"
    }
   ],
   "source": [
    "pdr.raw[:1000]"
   ]
  },
  {
   "cell_type": "code",
   "execution_count": 15,
   "metadata": {},
   "outputs": [],
   "source": [
    "pdr.fit()"
   ]
  },
  {
   "cell_type": "code",
   "execution_count": 16,
   "metadata": {},
   "outputs": [
    {
     "data": {
      "text/html": [
       "<div>\n",
       "<style scoped>\n",
       "    .dataframe tbody tr th:only-of-type {\n",
       "        vertical-align: middle;\n",
       "    }\n",
       "\n",
       "    .dataframe tbody tr th {\n",
       "        vertical-align: top;\n",
       "    }\n",
       "\n",
       "    .dataframe thead th {\n",
       "        text-align: right;\n",
       "    }\n",
       "</style>\n",
       "<table border=\"1\" class=\"dataframe\">\n",
       "  <thead>\n",
       "    <tr style=\"text-align: right;\">\n",
       "      <th></th>\n",
       "      <th>type</th>\n",
       "      <th>alias</th>\n",
       "      <th>AUTHOR</th>\n",
       "      <th>TITLE</th>\n",
       "      <th>YEAR</th>\n",
       "      <th>JOURNAL</th>\n",
       "      <th>VOLUME</th>\n",
       "      <th>PAGES</th>\n",
       "      <th>PUBLISHER</th>\n",
       "      <th>ADDRESS</th>\n",
       "    </tr>\n",
       "  </thead>\n",
       "  <tbody>\n",
       "    <tr>\n",
       "      <th>0</th>\n",
       "      <td>ARTICLE</td>\n",
       "      <td>smit54</td>\n",
       "      <td>J. G. Smith and H. K. Weston</td>\n",
       "      <td>Nothing Particular in this Year's History</td>\n",
       "      <td>1954</td>\n",
       "      <td>J. Geophys. Res.</td>\n",
       "      <td>2</td>\n",
       "      <td>14-15</td>\n",
       "      <td>NaN</td>\n",
       "      <td>NaN</td>\n",
       "    </tr>\n",
       "    <tr>\n",
       "      <th>1</th>\n",
       "      <td>BOOK</td>\n",
       "      <td>colu92</td>\n",
       "      <td>Christopher Columbus</td>\n",
       "      <td>I</td>\n",
       "      <td>NaN</td>\n",
       "      <td>NaN</td>\n",
       "      <td>NaN</td>\n",
       "      <td>NaN</td>\n",
       "      <td>NaN</td>\n",
       "      <td>NaN</td>\n",
       "    </tr>\n",
       "    <tr>\n",
       "      <th>2</th>\n",
       "      <td>BOOK</td>\n",
       "      <td>colu92</td>\n",
       "      <td>Christopher Columbus</td>\n",
       "      <td>I</td>\n",
       "      <td>NaN</td>\n",
       "      <td>NaN</td>\n",
       "      <td>NaN</td>\n",
       "      <td>NaN</td>\n",
       "      <td>NaN</td>\n",
       "      <td>NaN</td>\n",
       "    </tr>\n",
       "    <tr>\n",
       "      <th>3</th>\n",
       "      <td>BOOK</td>\n",
       "      <td>colu92</td>\n",
       "      <td>Christopher Columbus</td>\n",
       "      <td>I</td>\n",
       "      <td>1492</td>\n",
       "      <td>NaN</td>\n",
       "      <td>NaN</td>\n",
       "      <td>NaN</td>\n",
       "      <td>Hispanic Press</td>\n",
       "      <td>Barcelona</td>\n",
       "    </tr>\n",
       "    <tr>\n",
       "      <th>4</th>\n",
       "      <td>ARTICLE</td>\n",
       "      <td>gree00</td>\n",
       "      <td>R. J. Green and U. P. Fred and W. P. Norbert</td>\n",
       "      <td>Things that Go Bump in the Night</td>\n",
       "      <td>1900</td>\n",
       "      <td>Psych. Today</td>\n",
       "      <td>46</td>\n",
       "      <td>345-678</td>\n",
       "      <td>NaN</td>\n",
       "      <td>NaN</td>\n",
       "    </tr>\n",
       "    <tr>\n",
       "      <th>5</th>\n",
       "      <td>ARTICLE</td>\n",
       "      <td>phil99</td>\n",
       "      <td>T. P. Phillips</td>\n",
       "      <td>American</td>\n",
       "      <td>NaN</td>\n",
       "      <td>NaN</td>\n",
       "      <td>NaN</td>\n",
       "      <td>NaN</td>\n",
       "      <td>NaN</td>\n",
       "      <td>NaN</td>\n",
       "    </tr>\n",
       "    <tr>\n",
       "      <th>6</th>\n",
       "      <td>ARTICLE</td>\n",
       "      <td>phil99</td>\n",
       "      <td>T. P. Phillips</td>\n",
       "      <td>American</td>\n",
       "      <td>1999</td>\n",
       "      <td>J. Oddball Res.</td>\n",
       "      <td>98</td>\n",
       "      <td>1000-1003</td>\n",
       "      <td>NaN</td>\n",
       "      <td>NaN</td>\n",
       "    </tr>\n",
       "    <tr>\n",
       "      <th>7</th>\n",
       "      <td>ARTICLE</td>\n",
       "      <td>jame76</td>\n",
       "      <td>Kelly James and Harris, Jr., George and Wilby ...</td>\n",
       "      <td>American</td>\n",
       "      <td>NaN</td>\n",
       "      <td>NaN</td>\n",
       "      <td>NaN</td>\n",
       "      <td>NaN</td>\n",
       "      <td>NaN</td>\n",
       "      <td>NaN</td>\n",
       "    </tr>\n",
       "    <tr>\n",
       "      <th>8</th>\n",
       "      <td>ARTICLE</td>\n",
       "      <td>jame76</td>\n",
       "      <td>Kelly James and Harris, Jr., George and Wilby ...</td>\n",
       "      <td>American</td>\n",
       "      <td>1776</td>\n",
       "      <td>Revol. Tracts</td>\n",
       "      <td>32</td>\n",
       "      <td>34-55</td>\n",
       "      <td>NaN</td>\n",
       "      <td>NaN</td>\n",
       "    </tr>\n",
       "  </tbody>\n",
       "</table>\n",
       "</div>"
      ],
      "text/plain": [
       "      type   alias                                             AUTHOR  \\\n",
       "0  ARTICLE  smit54                       J. G. Smith and H. K. Weston   \n",
       "1     BOOK  colu92                               Christopher Columbus   \n",
       "2     BOOK  colu92                               Christopher Columbus   \n",
       "3     BOOK  colu92                               Christopher Columbus   \n",
       "4  ARTICLE  gree00       R. J. Green and U. P. Fred and W. P. Norbert   \n",
       "5  ARTICLE  phil99                                     T. P. Phillips   \n",
       "6  ARTICLE  phil99                                     T. P. Phillips   \n",
       "7  ARTICLE  jame76  Kelly James and Harris, Jr., George and Wilby ...   \n",
       "8  ARTICLE  jame76  Kelly James and Harris, Jr., George and Wilby ...   \n",
       "\n",
       "                                       TITLE  YEAR           JOURNAL VOLUME  \\\n",
       "0  Nothing Particular in this Year's History  1954  J. Geophys. Res.      2   \n",
       "1                                          I   NaN               NaN    NaN   \n",
       "2                                          I   NaN               NaN    NaN   \n",
       "3                                          I  1492               NaN    NaN   \n",
       "4           Things that Go Bump in the Night  1900      Psych. Today     46   \n",
       "5                                   American   NaN               NaN    NaN   \n",
       "6                                   American  1999   J. Oddball Res.     98   \n",
       "7                                   American   NaN               NaN    NaN   \n",
       "8                                   American  1776     Revol. Tracts     32   \n",
       "\n",
       "       PAGES       PUBLISHER    ADDRESS  \n",
       "0      14-15             NaN        NaN  \n",
       "1        NaN             NaN        NaN  \n",
       "2        NaN             NaN        NaN  \n",
       "3        NaN  Hispanic Press  Barcelona  \n",
       "4    345-678             NaN        NaN  \n",
       "5        NaN             NaN        NaN  \n",
       "6  1000-1003             NaN        NaN  \n",
       "7        NaN             NaN        NaN  \n",
       "8      34-55             NaN        NaN  "
      ]
     },
     "execution_count": 16,
     "metadata": {},
     "output_type": "execute_result"
    }
   ],
   "source": [
    "pdr.df"
   ]
  },
  {
   "cell_type": "markdown",
   "metadata": {},
   "source": [
    "End of the notebook"
   ]
  }
 ],
 "metadata": {
  "kernelspec": {
   "display_name": "Python 3.8.13 ('pdr')",
   "language": "python",
   "name": "python3"
  },
  "language_info": {
   "codemirror_mode": {
    "name": "ipython",
    "version": 3
   },
   "file_extension": ".py",
   "mimetype": "text/x-python",
   "name": "python",
   "nbconvert_exporter": "python",
   "pygments_lexer": "ipython3",
   "version": "3.8.13"
  },
  "orig_nbformat": 4,
  "vscode": {
   "interpreter": {
    "hash": "ec3ba36b413de325dd38d751e7a8a6eca65f333d1619da92dd7e369649a08d52"
   }
  }
 },
 "nbformat": 4,
 "nbformat_minor": 2
}
